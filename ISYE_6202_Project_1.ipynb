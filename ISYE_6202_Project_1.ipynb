{
  "nbformat": 4,
  "nbformat_minor": 0,
  "metadata": {
    "colab": {
      "name": "ISYE 6202 Project 1",
      "provenance": [],
      "collapsed_sections": [
        "GUp-2Ak50vyf",
        "3NS9mPvL2Iy3",
        "iSaFXg810-mH",
        "cA5NKLDjuCX7",
        "60SEMz6SupQZ",
        "rImvlPuYxp8g",
        "9j5J37WVxgPx",
        "xqN-1F2TyTCB",
        "lY87qspi7iZs",
        "qbZAeTOl8OyL",
        "69vxcLA_y48Y"
      ],
      "authorship_tag": "ABX9TyPmAhQkAJ1/eMAbsHVdBx9I",
      "include_colab_link": true
    },
    "kernelspec": {
      "name": "python3",
      "display_name": "Python 3"
    },
    "language_info": {
      "name": "python"
    }
  },
  "cells": [
    {
      "cell_type": "markdown",
      "metadata": {
        "id": "view-in-github",
        "colab_type": "text"
      },
      "source": [
        "<a href=\"https://colab.research.google.com/github/Ash111998/fromCMD/blob/main/ISYE_6202_Project_1.ipynb\" target=\"_parent\"><img src=\"https://colab.research.google.com/assets/colab-badge.svg\" alt=\"Open In Colab\"/></a>"
      ]
    },
    {
      "cell_type": "markdown",
      "metadata": {
        "id": "GUp-2Ak50vyf"
      },
      "source": [
        "# Shared Storage Shipment to Flow Assignment Optimisation based on Maximum Flow"
      ]
    },
    {
      "cell_type": "code",
      "metadata": {
        "id": "q7flpTMG0kgn"
      },
      "source": [
        "!pip install ortools"
      ],
      "execution_count": null,
      "outputs": []
    },
    {
      "cell_type": "code",
      "metadata": {
        "id": "VMNyc3hXz6y3"
      },
      "source": [
        "import pandas as pd\n",
        "import math\n",
        "import seaborn as sns\n",
        "import matplotlib\n",
        "import matplotlib.pyplot as plt\n",
        "import numpy\n",
        "import scipy.stats\n",
        "import xlrd\n",
        "from ortools.linear_solver import pywraplp\n",
        "\n",
        "\n",
        "workbook = xlrd.open_workbook(\"/Python Input Data 2.xlsx\")\n",
        "sheet = workbook.sheet_by_name(\"Sheet1\")\n",
        "data = [[sheet.cell_value(row, col) for col in range(sheet.ncols)] for row in range(sheet.nrows)]\n",
        "\n",
        "print(data)"
      ],
      "execution_count": null,
      "outputs": []
    },
    {
      "cell_type": "code",
      "metadata": {
        "id": "MDTsDBR-0sMm"
      },
      "source": [
        "def assign(flow):\n",
        "    num_shipment = len(flow)\n",
        "    num_zone = len(flow[0])\n",
        "\n",
        "    # Solver\n",
        "    # Create the mip solver with the SCIP backend.\n",
        "    solver = pywraplp.Solver.CreateSolver('SCIP')\n",
        "\n",
        "    # Variables\n",
        "    # x[i, j] is an array of 0-1 variables, which will be 1\n",
        "    # if  Shipment i is assigned Zone j.\n",
        "    x = {}\n",
        "    for i in range(num_shipment):\n",
        "        for j in range(num_zone):\n",
        "            x[i, j] = solver.IntVar(0, 1, '')\n",
        "\n",
        "    # Constraints\n",
        "    # Each Shipment is assigned to maximum 3 Zones.\n",
        "    for i in range(num_shipment):\n",
        "        solver.Add(solver.Sum([x[i, j] for j in range(num_zone)]) <= 3)\n",
        "\n",
        "    # Each Zone should be assigned to atleast 2 Shipments.\n",
        "    for j in range(num_zone):\n",
        "        solver.Add(solver.Sum([x[i, j] for i in range(num_shipment)]) >= 2)\n",
        "\n",
        "    # Shipment 4 and 5 should be in the same zone.\n",
        "    for j in range(num_zone):\n",
        "        solver.Add(x[3,j] == x[4,j])\n",
        "\n",
        "    #Each Zone should have a mix of High and Low priority shipments with atleast 1 High priority shipments\n",
        "    for j in range(num_zone):\n",
        "        solver.Add(solver.Sum([x[i, j] for i in range(5)]) >= 1)\n",
        "\n",
        "    #Shipments with  'High' Priority should be assigned to zones closest to Shipping and Receiving (Zone 6,8,10,12)\n",
        "    for j in range(3,8):\n",
        "        solver.Add(solver.Sum([x[0,j], x[1,j], x[2,j], x[3,j], x[4,j]]) >= 1)\n",
        "\n",
        "    # Objective\n",
        "    objective_terms = []\n",
        "    for i in range(num_shipment):\n",
        "        for j in range(num_zone):\n",
        "            objective_terms.append(flow[i][j] * x[i, j])\n",
        "    solver.Maximize(solver.Sum(objective_terms))\n",
        "\n",
        "    # Solve\n",
        "    status = solver.Solve()\n",
        "\n",
        "    # Print solution.\n",
        "    if status == pywraplp.Solver.OPTIMAL or status == pywraplp.Solver.FEASIBLE:\n",
        "        print('Objective Value = ', solver.Objective().Value(), '\\n')\n",
        "        for i in range(num_shipment):\n",
        "            for j in range(num_zone):\n",
        "                # Test if x[i,j] is 1 (with tolerance for floating point arithmetic).\n",
        "                if x[i, j].solution_value() > 0.5:\n",
        "                    #print('Student %d assigned to Class %d',.)\n",
        "                    print(\"%d,%d\" %(i+1,j+1))"
      ],
      "execution_count": null,
      "outputs": []
    },
    {
      "cell_type": "code",
      "metadata": {
        "id": "PLaApgq00usn"
      },
      "source": [
        "assignedSol = assign(data)"
      ],
      "execution_count": null,
      "outputs": []
    },
    {
      "cell_type": "markdown",
      "metadata": {
        "id": "3NS9mPvL2Iy3"
      },
      "source": [
        "# Dead Head Reduction for Dedicated Layout"
      ]
    },
    {
      "cell_type": "code",
      "metadata": {
        "id": "r2tOjNjs2WL-"
      },
      "source": [
        "!pip install ortools"
      ],
      "execution_count": null,
      "outputs": []
    },
    {
      "cell_type": "code",
      "metadata": {
        "id": "JkWJFPly2aLu"
      },
      "source": [
        "import pandas as pd\n",
        "import math\n",
        "import seaborn as sns\n",
        "import matplotlib\n",
        "import matplotlib.pyplot as plt\n",
        "import numpy\n",
        "import scipy.stats\n",
        "import xlrd\n",
        "from ortools.linear_solver import pywraplp\n",
        "\n",
        "\n",
        "workbook = xlrd.open_workbook(\"/Python Input Data.xlsx\")\n",
        "sheet = workbook.sheet_by_name(\"Sheet1\")\n",
        "data = [[sheet.cell_value(row, col) for col in range(sheet.ncols)] for row in range(sheet.nrows)]\n",
        "\n",
        "print(data)"
      ],
      "execution_count": null,
      "outputs": []
    },
    {
      "cell_type": "code",
      "metadata": {
        "id": "f3-ojiRF2cPe"
      },
      "source": [
        "def assign(distance):\n",
        "    num_stow = len(distance)\n",
        "    num_retrieve = len(distance[0])\n",
        "\n",
        "    # Solver\n",
        "    # Create the mip solver with the SCIP backend.\n",
        "    solver = pywraplp.Solver.CreateSolver('SCIP')\n",
        "\n",
        "    # Variables\n",
        "    # x[i, j] is an array of 0-1 variables, which will be 1\n",
        "    # if Stow-at-Zone i is assigned Retrieval-at-Zone j.\n",
        "    x = {}\n",
        "    for i in range(num_stow):\n",
        "        for j in range(num_retrieve):\n",
        "            x[i, j] = solver.IntVar(0, 1, '')\n",
        "\n",
        "    # Constraints\n",
        "    # Each Stow is assigned to exactly 1 Retrieval.\n",
        "    for i in range(num_stow):\n",
        "        solver.Add(solver.Sum([x[i, j] for j in range(num_retrieve)]) == 1)\n",
        "\n",
        "    # Each Retrieval is assigned to exactly 1 Stow.\n",
        "    for j in range(num_retrieve):\n",
        "        solver.Add(solver.Sum([x[i, j] for i in range(num_stow)]) == 1)\n",
        "\n",
        "    # Objective\n",
        "    objective_terms = []\n",
        "    for i in range(num_stow):\n",
        "        for j in range(num_retrieve):\n",
        "            objective_terms.append(distance[i][j] * x[i, j])\n",
        "    solver.Minimize(solver.Sum(objective_terms))\n",
        "\n",
        "    # Solve\n",
        "    status = solver.Solve()\n",
        "\n",
        "    # Print solution.\n",
        "    if status == pywraplp.Solver.OPTIMAL or status == pywraplp.Solver.FEASIBLE:\n",
        "        print('Total distance = ', solver.Objective().Value(), '\\n')\n",
        "        for i in range(num_stow):\n",
        "            for j in range(num_retrieve):\n",
        "                # Test if x[i,j] is 1 (with tolerance for floating point arithmetic).\n",
        "                if x[i, j].solution_value() > 0.5:\n",
        "                    #print('Stow %d assigned to Retrieve %d.  Distance = %d' %(i, j, distance[i][j]))\n",
        "                    print(\"%d,%d\" %(i,j))"
      ],
      "execution_count": null,
      "outputs": []
    },
    {
      "cell_type": "code",
      "metadata": {
        "id": "rZqcr5s62hoC"
      },
      "source": [
        "assignedSol = assign(data)"
      ],
      "execution_count": null,
      "outputs": []
    },
    {
      "cell_type": "markdown",
      "metadata": {
        "id": "iSaFXg810-mH"
      },
      "source": [
        "# Analysis of Dedicated and Class Based Layout based on Static Demand"
      ]
    },
    {
      "cell_type": "markdown",
      "metadata": {
        "id": "04f1GdOKsLFb"
      },
      "source": [
        "The Source Code of the Python was divided into 6 functions which is as follows: \n",
        "\n",
        "1. Class wise Bang for Buck SKU Assignment\n",
        "2. Bang for Buck Optimisation\n",
        "3. Layout design and flow matrix for Dedicated (Same R&S)\n",
        "4. Layout design and flow matrix for Class (SameR&S)\n",
        "5. Layout Design and Flow Matrix for Dedicated (Opposite R&S)\n",
        "6. Layout Design and Flow Matrix for Class (Opposite R&S)\n",
        "7. Layout Design and Flow Matrix for Shared (Same R & S)\n",
        "8. Layout Design and Flow Matrix for Shared (Different R & S)\n",
        "\n",
        "\n",
        "The Bang for Buck Class Assignment takes the value of SKU, Carton Demand, Pallets Required (Max bays), Slots and Benefits and provides up with the Flow and Total Distance Travelled Matrix Along with Feets / move.\n"
      ]
    },
    {
      "cell_type": "markdown",
      "metadata": {
        "id": "5wOn_Se_ubJ5"
      },
      "source": [
        "**Function 1: Class Assignment for Bang for Buck *Optimisation***"
      ]
    },
    {
      "cell_type": "code",
      "metadata": {
        "id": "pGk50uGZ40TQ"
      },
      "source": [
        "def classs(c):\n",
        "    import pandas as pd\n",
        "    sku=[]\n",
        "    carton=[]\n",
        "    pr=[]\n",
        "    mpp=0\n",
        "    br=0\n",
        "    b=[]\n",
        "    r=[]\n",
        "    s=0\n",
        "    sa=[]\n",
        "    sp=0\n",
        "    cpp=[]\n",
        "    sl=[]\n",
        "    z=[]\n",
        "    rf=[]\n",
        "    average=0\n",
        "    df=pd.read_excel(c,sheet_name='Class Flow')\n",
        "    n=len(df)\n",
        "    for i in range (0,n):\n",
        "        sku.append(df.iloc[i,0])\n",
        "        carton.append(df.iloc[i,1])\n",
        "        pr.append(df.iloc[i,2])\n",
        "        sl.append(df.iloc[i,3])\n",
        "        b.append(df.iloc[i,4])\n",
        "        mpp=carton[i]+mpp\n",
        "        br=br+carton[i]\n",
        "    average=mpp/br\n",
        "    for i in range (0,n):\n",
        "        r.append(int(carton[i])/int(pr[i]))\n",
        "        rf.append(int(carton[i])/(sl[i]))\n",
        "    df[\"Bays Required\"]=r\n",
        "    df[\"Flow Based on Slots\"]=rf\n",
        "    df[\"Benefits\"]=b\n",
        "    df=df.sort_values(by='Flow Based on Slots', ascending=False, na_position='first')\n",
        "    pd.set_option(\"display.max_rows\", None, \"display.max_columns\", None)\n",
        "    o=int(input(\"Enter the Number of SKU's to be assiged for Class A\"))\n",
        "    for i in range (0,n):\n",
        "        if (i<=o):\n",
        "            z.append(\"Class A\")\n",
        "        else:\n",
        "            z.append(\"Class B\")\n",
        "    df[\"Class\"]=z\n",
        "    df.to_excel(r'Export SKU Assignment Class Wise',sheet_name='Flow',index=False)"
      ],
      "execution_count": 1,
      "outputs": []
    },
    {
      "cell_type": "markdown",
      "metadata": {
        "id": "cA5NKLDjuCX7"
      },
      "source": [
        "## **Function 2: Bang for Buck *Optimisation***\n",
        "\n"
      ]
    },
    {
      "cell_type": "markdown",
      "metadata": {
        "id": "WQK_EN2psBHk"
      },
      "source": [
        "The Function 2 carries out the Bang for Buck Optimisation which provides the All Space, Some Space, More Space requirements for each SKU over a particular time period (Static Demand)"
      ]
    },
    {
      "cell_type": "code",
      "metadata": {
        "id": "Jz8B_sElqGdm"
      },
      "source": [
        "def bang(c):\n",
        "    import pandas as pd\n",
        "    sku=[]\n",
        "    carton=[]\n",
        "    ppp=[]\n",
        "    cdi=[]\n",
        "    fpd=[]\n",
        "    mnl=[]\n",
        "    al=[]\n",
        "    sl=[]\n",
        "    ml=[]\n",
        "    j=0\n",
        "    l=0\n",
        "    z=[]\n",
        "    df=pd.read_excel(c,sheet_name='Class Based Split')\n",
        "    mp=[200,120,80,70,90,80,75,20,5,17,13,5,11,5]\n",
        "    n=len(df)\n",
        "    s=int(input(\"Enter the Forward Pick Savings\"))\n",
        "    r=int(input(\"Enter the Restocking Stock\"))\n",
        "    for i in range (0,n):\n",
        "        sku.append(df.iloc[i,0])\n",
        "        carton.append(df.iloc[i,1])\n",
        "        ppp.append(df.iloc[i,2])\n",
        "        cdi.append(int(ppp[i])/2)\n",
        "        fpd.append(int(carton[i])/ppp[i])\n",
        "        mnl.append(int(carton[i])/50)\n",
        "        al.append(((s)*(carton[i]+fpd[i]))/mp[i])\n",
        "        j=(float(((s)*(carton[i]))-(r*cdi[i])))\n",
        "        sl.append(j/mnl[i])\n",
        "        l=(float(((s)*(fpd[i])+(r*cdi[i]))))\n",
        "        ml.append(l/(mp[i]-mnl[i]))\n",
        "    df[\"Carton Demand in Pallets\"]=cdi\n",
        "    df[\"Full Pallet Demand\"]=fpd\n",
        "    df[\"Minimum Number of Locations\"]=mnl\n",
        "    df[\"Maximum Pallets\"]=mp\n",
        "    df[\"All Space\"]=al\n",
        "    df[\"Some Space\"]=sl\n",
        "    df[\"More Space\"]=ml\n",
        "    pd.set_option(\"display.max_rows\", None, \"display.max_columns\", None)\n",
        "    df.to_excel(r'Export Bang for Buck Files.xlsx',sheet_name='Flow',index=False)\n",
        "    print(df)"
      ],
      "execution_count": 2,
      "outputs": []
    },
    {
      "cell_type": "markdown",
      "metadata": {
        "id": "60SEMz6SupQZ"
      },
      "source": [
        "## **Function 3: Dedicated Layout for Same Receiving and Shipping Side**"
      ]
    },
    {
      "cell_type": "markdown",
      "metadata": {
        "id": "RETOGQgAu0Ga"
      },
      "source": [
        "The Function 3 provides us the flow and total distance travelled for each SKU over a particular time period (Static Demand). Also, it displays the total distance travelled, feets/move and the Moves/period. "
      ]
    },
    {
      "cell_type": "code",
      "metadata": {
        "id": "LuxpPrOkqLF1"
      },
      "source": [
        "def layout(c):\n",
        "    import pandas as pd\n",
        "    import pandas as pd\n",
        "    sku=[]\n",
        "    mpd=[]\n",
        "    mba=[]\n",
        "    mba1=[]\n",
        "    mpp=0\n",
        "    br=0\n",
        "    r=[]\n",
        "    f=[[0,0,0,0,0,0,0,0],[0,0,0,0,0,0,0,0],[0,0,0,0,0,0,0,0],[0,0,0,0,0,0,0,0],\n",
        "       [0,0,0,0,0,0,0,0],[0,0,0,0,0,0,0,0],[0,0,0,0,0,0,0,0],[0,0,0,0,0,0,0,0],[0,0,0,0,0,0,0,0],[0,0,0,0,0,0,0,0]]\n",
        "    d=[[0,0,0,0,0,0,0,0],[0,0,0,0,0,0,0,0],[0,0,0,0,0,0,0,0],[0,0,0,0,0,0,0,0],\n",
        "       [0,0,0,0,0,0,0,0],[0,0,0,0,0,0,0,0],[0,0,0,0,0,0,0,0],[0,0,0,0,0,0,0,0],[0,0,0,0,0,0,0,0],[0,0,0,0,0,0,0,0]]\n",
        "    dt=0\n",
        "    a=0\n",
        "    b=8\n",
        "    k=0\n",
        "    y=0\n",
        "    average=0\n",
        "    df=pd.read_excel(c,sheet_name='Dedicated')\n",
        "    n=len(df)\n",
        "    for i in range(0,n):\n",
        "        sku.append(df.iloc[i,0])\n",
        "        mpd.append(df.iloc[i,1])\n",
        "        mba.append(df.iloc[i,2])\n",
        "        mpp=mpd[i]+mpp\n",
        "        br=br+mba[i]\n",
        "    a=br/80\n",
        "    print(a)\n",
        "    for i in range(0,n):\n",
        "        mba1.append(int(mba[i])/float(a))\n",
        "        o=b*mba1[i]\n",
        "        r.append(float(mpd[i])/float(o))\n",
        "    df[\"Max Bays Required\"]=mba1\n",
        "    df['Flow']=r\n",
        "    df=df.sort_values(by='Flow', ascending=False, na_position='first')\n",
        "    print(df)\n",
        "    dp=pd.read_excel(c,sheet_name='Distance')\n",
        "    ds=pd.read_excel(c,sheet_name='SKU Assignment')\n",
        "    for i in range (0,10):\n",
        "        for j in range (0,8):\n",
        "            for k in range (0,n):\n",
        "                if(ds.iloc[i,j]==df.iloc[k,0]):\n",
        "                    f[i][j]=(df.iloc[k,4])\n",
        "                    d[i][j]=f[i][j]*dp.iloc[i,j]\n",
        "                    dt=dt+d[i][j]\n",
        "    l=int(input(\"Enter the total moves/period\"))\n",
        "    y=dt/l\n",
        "    print(\"Total Distance Travelled=\",dt)\n",
        "    print(\"Total Feets/move=\",y)\n",
        "    distance=pd.DataFrame(d)\n",
        "    flow=pd.DataFrame(f)\n",
        "    flow.to_excel(r'Export Flow Dedicated.xlsx',sheet_name='Flow',index=False)\n",
        "    distance.to_excel(r'Export Distance Dedicated.xlsx',sheet_name=\"Distance\",index=False)\n",
        "    print(\"The Flow Matrix and Distance Travelled matrix has been generated\")"
      ],
      "execution_count": 3,
      "outputs": []
    },
    {
      "cell_type": "markdown",
      "metadata": {
        "id": "rImvlPuYxp8g"
      },
      "source": [
        "## **Function 4 : Dedicated Layout for Opposite Receiving and Shipping Side**"
      ]
    },
    {
      "cell_type": "markdown",
      "metadata": {
        "id": "Yi62hwRqxwlg"
      },
      "source": [
        "The Function 4 provides us the flow and total distance travelled for each SKU over a particular time period (Static Demand) for Dedicated Storage. Also, it displays the total distance travelled, feets/move and the Moves/period.\n",
        "\n",
        "Note: This is for Different Receiving and Shipping Sides"
      ]
    },
    {
      "cell_type": "code",
      "metadata": {
        "id": "DZZmhNyZqOGl"
      },
      "source": [
        "def layoutdedicatedopposite(c):\n",
        "    import pandas as pd\n",
        "    import pandas as pd\n",
        "    sku=[]\n",
        "    mpd=[]\n",
        "    mba=[]\n",
        "    mba1=[]\n",
        "    mpp=0\n",
        "    br=0\n",
        "    r=[]\n",
        "    f=[[0,0,0,0,0,0,0,0],[0,0,0,0,0,0,0,0],[0,0,0,0,0,0,0,0],[0,0,0,0,0,0,0,0],[0,0,0,0,0,0,0,0],[0,0,0,0,0,0,0,0],[0,0,0,0,0,0,0,0],[0,0,0,0,0,0,0,0],[0,0,0,0,0,0,0,0],[0,0,0,0,0,0,0,0]]\n",
        "    d=[[0,0,0,0,0,0,0,0],[0,0,0,0,0,0,0,0],[0,0,0,0,0,0,0,0],[0,0,0,0,0,0,0,0],[0,0,0,0,0,0,0,0],[0,0,0,0,0,0,0,0],[0,0,0,0,0,0,0,0],[0,0,0,0,0,0,0,0],[0,0,0,0,0,0,0,0],[0,0,0,0,0,0,0,0]]\n",
        "    dt=0\n",
        "    a=0\n",
        "    b=8\n",
        "    k=0\n",
        "    y=0\n",
        "    average=0\n",
        "    df=pd.read_excel(c,sheet_name='Dedicated')\n",
        "    n=len(df)\n",
        "    for i in range(0,n):\n",
        "        sku.append(df.iloc[i,0])\n",
        "        mpd.append(df.iloc[i,1])\n",
        "        mba.append(df.iloc[i,2])\n",
        "        mpp=mpd[i]+mpp\n",
        "        br=br+mba[i]\n",
        "    a=br/80\n",
        "    print(a)\n",
        "    for i in range(0,n):\n",
        "        mba1.append(int(mba[i])/float(a))\n",
        "        o=b*mba1[i]\n",
        "        r.append(float(mpd[i])/float(o))\n",
        "    df[\"Max Bays Required\"]=mba1\n",
        "    df['Flow']=r\n",
        "    df=df.sort_values(by='Flow', ascending=False, na_position='first')\n",
        "    print(df)\n",
        "    dp=pd.read_excel(c,sheet_name='Distance Opposite')\n",
        "    ds=pd.read_excel(c,sheet_name='SKU Assignment Opposite')\n",
        "    for i in range (0,10):\n",
        "        for j in range (0,8):\n",
        "            for k in range (0,n):\n",
        "                if(ds.iloc[i,j]==df.iloc[k,0]):\n",
        "                    f[i][j]=(df.iloc[k,4])\n",
        "                    d[i][j]=f[i][j]*dp.iloc[i,j]\n",
        "                    dt=dt+d[i][j]\n",
        "    l=int(input(\"Enter the total moves/period\"))\n",
        "    y=dt/l\n",
        "    print(\"Total Distance Travelled=\",dt)\n",
        "    print(\"Total Feets/move=\",y)\n",
        "    distance=pd.DataFrame(d)\n",
        "    flow=pd.DataFrame(f)\n",
        "    flow.to_excel(r'Export Flow Dedicated Opposite.xlsx',sheet_name='Flow',index=False)\n",
        "    distance.to_excel(r'Export Distance Dedicated Opposite.xlsx',sheet_name=\"Distance\",index=False)\n",
        "    print(\"The Flow Matrix and Distance Travelled matrix has been generated\")"
      ],
      "execution_count": 4,
      "outputs": []
    },
    {
      "cell_type": "markdown",
      "metadata": {
        "id": "9j5J37WVxgPx"
      },
      "source": [
        "### **Function 5 : Class Based Layout for Same Receiving and Shipping Side**"
      ]
    },
    {
      "cell_type": "markdown",
      "metadata": {
        "id": "in9SqB34x_aA"
      },
      "source": [
        "The Function 5 provides us the flow and total distance travelled for each SKU over a particular time period (Static Demand) for Class Storage. Also, it displays the total distance travelled, feets/move and the Moves/period.\n",
        "\n",
        "Note: This is for Same Receiving and Shipping Sides"
      ]
    },
    {
      "cell_type": "code",
      "metadata": {
        "id": "U_hzPRBRqQGM"
      },
      "source": [
        "def layoutclass(c):\n",
        "    import pandas as pd\n",
        "    import pandas as pd\n",
        "    sku=[]\n",
        "    mpd=[]\n",
        "    mba=[]\n",
        "    mba1=[]\n",
        "    mpp=0\n",
        "    br=0\n",
        "    r=[]\n",
        "    f=[[0,0,0,0,0,0,0,0],[0,0,0,0,0,0,0,0],[0,0,0,0,0,0,0,0],[0,0,0,0,0,0,0,0],[0,0,0,0,0,0,0,0],\n",
        "       [0,0,0,0,0,0,0,0],[0,0,0,0,0,0,0,0],[0,0,0,0,0,0,0,0],[0,0,0,0,0,0,0,0],[0,0,0,0,0,0,0,0]]\n",
        "    d=[[0,0,0,0,0,0,0,0],[0,0,0,0,0,0,0,0],[0,0,0,0,0,0,0,0],[0,0,0,0,0,0,0,0],[0,0,0,0,0,0,0,0],\n",
        "       [0,0,0,0,0,0,0,0],[0,0,0,0,0,0,0,0],[0,0,0,0,0,0,0,0],[0,0,0,0,0,0,0,0],[0,0,0,0,0,0,0,0]]\n",
        "    dt=0\n",
        "    a=0\n",
        "    b=8\n",
        "    k=int(input(\"Enter total moves/period\"))\n",
        "    average=0\n",
        "    dp=pd.read_excel(c,sheet_name='Distance')\n",
        "    ds=pd.read_excel(c,sheet_name='SKU Assignment Class')\n",
        "    for i in range (0,10):\n",
        "        for j in range (0,8):\n",
        "                if(ds.iloc[i,j]==\"C1\"):\n",
        "                    f[i][j]=7\n",
        "                    d[i][j]=f[i][j]*dp.iloc[i,j]\n",
        "                    dt=dt+d[i][j]\n",
        "                else:\n",
        "                    f[i][j]=5\n",
        "                    d[i][j]=f[i][j]*dp.iloc[i,j]\n",
        "                    dt=dt+d[i][j]\n",
        "    a=dt/k\n",
        "    print(\"Total Distance Travelled=\",dt)\n",
        "    print(\"Total Feets/move=\",a)\n",
        "    distance=pd.DataFrame(d)\n",
        "    flow=pd.DataFrame(f)\n",
        "    flow.to_excel(r'Export Flow Class.xlsx',sheet_name='Flow',index=False)\n",
        "    distance.to_excel(r'Export Distance Class.xlsx',sheet_name=\"Distance\",index=False)\n",
        "    print(\"The Flow Matrix and Distance Travelled matrix has been generated\")\n"
      ],
      "execution_count": 5,
      "outputs": []
    },
    {
      "cell_type": "markdown",
      "metadata": {
        "id": "xqN-1F2TyTCB"
      },
      "source": [
        "### **Function 6 : Class Based Layout for Opposite Receiving and Shipping Side**"
      ]
    },
    {
      "cell_type": "markdown",
      "metadata": {
        "id": "9RgAvG7gyogg"
      },
      "source": [
        "The Function 6 provides us the flow and total distance travelled for each SKU over a particular time period (Static Demand) for Class Storage. Also, it displays the total distance travelled, feets/move and the Moves/period.\n",
        "\n",
        "Note: This is for Different Receiving and Shipping Sides"
      ]
    },
    {
      "cell_type": "code",
      "metadata": {
        "id": "LmXRq0qWqSCE"
      },
      "source": [
        "def layoutclassopposite(c):\n",
        "    import pandas as pd\n",
        "    import pandas as pd\n",
        "    sku=[]\n",
        "    mpd=[]\n",
        "    mba=[]\n",
        "    mba1=[]\n",
        "    mpp=0\n",
        "    br=0\n",
        "    r=[]\n",
        "    f=[[0,0,0,0,0,0,0,0],[0,0,0,0,0,0,0,0],[0,0,0,0,0,0,0,0],[0,0,0,0,0,0,0,0],[0,0,0,0,0,0,0,0],[0,0,0,0,0,0,0,0],[0,0,0,0,0,0,0,0],[0,0,0,0,0,0,0,0],[0,0,0,0,0,0,0,0],[0,0,0,0,0,0,0,0]]\n",
        "    d=[[0,0,0,0,0,0,0,0],[0,0,0,0,0,0,0,0],[0,0,0,0,0,0,0,0],[0,0,0,0,0,0,0,0],[0,0,0,0,0,0,0,0],[0,0,0,0,0,0,0,0],[0,0,0,0,0,0,0,0],[0,0,0,0,0,0,0,0],[0,0,0,0,0,0,0,0],[0,0,0,0,0,0,0,0]]\n",
        "    dt=0\n",
        "    a=0\n",
        "    b=8\n",
        "    k=int(input(\"Enter total moves/period\"))\n",
        "    average=0\n",
        "    dp=pd.read_excel(c,sheet_name='Distance Opposite')\n",
        "    ds=pd.read_excel(c,sheet_name='SKU Assignment Class Opposite')\n",
        "    for i in range (0,10):\n",
        "        for j in range (0,8):\n",
        "                if(ds.iloc[i,j]==\"C1\"):\n",
        "                    f[i][j]=7\n",
        "                    d[i][j]=f[i][j]*dp.iloc[i,j]\n",
        "                    dt=dt+d[i][j]\n",
        "                else:\n",
        "                    f[i][j]=5\n",
        "                    d[i][j]=f[i][j]*dp.iloc[i,j]\n",
        "                    dt=dt+d[i][j]\n",
        "    a=dt/k\n",
        "    print(\"Total Distance Travelled=\",dt)\n",
        "    print(\"Total Feets/move=\",a)\n",
        "    distance=pd.DataFrame(d)\n",
        "    flow=pd.DataFrame(f)\n",
        "    flow.to_excel(r'Export Flow Class Opposite.xlsx',sheet_name='Flow',index=False)\n",
        "    distance.to_excel(r'Export Distance Class Opposite.xlsx',sheet_name=\"Distance\",index=False)\n",
        "    print(\"The Flow Matrix and Distance Travelled matrix has been generated\")"
      ],
      "execution_count": 6,
      "outputs": []
    },
    {
      "cell_type": "markdown",
      "metadata": {
        "id": "lY87qspi7iZs"
      },
      "source": [
        "##**Function 7 : Shared Layout for Same Receiving and Shipping Side**"
      ]
    },
    {
      "cell_type": "markdown",
      "metadata": {
        "id": "EAhYD3iZ7q4M"
      },
      "source": [
        "The Function 7 provides us the flow and total distance travelled for each SKU over a particular time period (Static Demand) for Shared Storage. Also, it displays the total distance travelled, feets/move and the Moves/period.\n",
        "\n",
        "Note: This is for Same Receiving and Shipping Sides\n",
        "\n"
      ]
    },
    {
      "cell_type": "code",
      "metadata": {
        "id": "okqBPrNp4QAt"
      },
      "source": [
        "def sharedlayout(c):\n",
        "    import pandas as pd\n",
        "    sku=[]\n",
        "    mpd=[]\n",
        "    mba=[]\n",
        "    mba1=[]\n",
        "    mpp=0\n",
        "    br=0\n",
        "    r=[]\n",
        "    d=[[0,0,0,0,0,0,0,0],[0,0,0,0,0,0,0,0],[0,0,0,0,0,0,0,0],[0,0,0,0,0,0,0,0],[0,0,0,0,0,0,0,0],[0,0,0,0,0,0,0,0],[0,0,0,0,0,0,0,0],[0,0,0,0,0,0,0,0],[0,0,0,0,0,0,0,0],[0,0,0,0,0,0,0,0]]\n",
        "    dt=0\n",
        "    a=0\n",
        "    b=int(input(\"Enter Number of Shipments\"))\n",
        "    k=float(input(\"Enter Scaling Factor for Distance Calculation\"))\n",
        "    m=int(input(\"Enter the Moves/period based on the Shipments\"))\n",
        "    average=0\n",
        "    dp=pd.read_excel(c,sheet_name='Distance')\n",
        "    ds=pd.read_excel(c,sheet_name='SKU Assignment Shared')\n",
        "    df=pd.read_excel(c,sheet_name='Shared Flow Same Side')\n",
        "    for i in range (0,10):\n",
        "        for j in range (0,8):\n",
        "                  d[i][j]=df.iloc[i,j]*dp.iloc[i,j]\n",
        "                  dt=dt+d[i][j]\n",
        "    a=dt/k\n",
        "    g=a/b\n",
        "    print(\"Total Distance Travelled=\",dt)\n",
        "    print(\"Scaled Distance\",a)\n",
        "    print(\"Per Shipment Distance Travelled\",g)\n",
        "    print(\"Feets/move\",g/m)\n",
        "    distance=pd.DataFrame(d)\n",
        "    distance.to_excel(r'Export Distance Shared.xlsx',sheet_name=\"Distance\",index=False)\n",
        "    print(\"The Flow Matrix and Distance Travelled matrix has been generated\")"
      ],
      "execution_count": 7,
      "outputs": []
    },
    {
      "cell_type": "markdown",
      "metadata": {
        "id": "qbZAeTOl8OyL"
      },
      "source": [
        "##**Function 8 : Shared Layout for Different Receiving and Shipping Side**"
      ]
    },
    {
      "cell_type": "markdown",
      "metadata": {
        "id": "5IlY5OAy8WHb"
      },
      "source": [
        "The Function 8 provides us the flow and total distance travelled for each SKU over a particular time period (Static Demand) for Shared Storage. Also, it displays the total distance travelled, feets/move and the Moves/period.\n",
        "\n",
        "Note: This is for different Receiving and Shipping Sides\n",
        "\n"
      ]
    },
    {
      "cell_type": "code",
      "metadata": {
        "id": "At-tDUTn7VvV"
      },
      "source": [
        "def sharedlayoutopposite(c):\n",
        "    import pandas as pd\n",
        "    sku=[]\n",
        "    mpd=[]\n",
        "    mba=[]\n",
        "    mba1=[]\n",
        "    mpp=0\n",
        "    br=0\n",
        "    r=[]\n",
        "    d=[[0,0,0,0,0,0,0,0],[0,0,0,0,0,0,0,0],[0,0,0,0,0,0,0,0],[0,0,0,0,0,0,0,0],[0,0,0,0,0,0,0,0],[0,0,0,0,0,0,0,0],[0,0,0,0,0,0,0,0],[0,0,0,0,0,0,0,0],[0,0,0,0,0,0,0,0],[0,0,0,0,0,0,0,0]]\n",
        "    dt=0\n",
        "    a=0\n",
        "    g=0\n",
        "    b=int(input(\"Enter Number of Shipments\"))\n",
        "    k=float(input(\"Enter Scaling Factor for Distance Calculation\"))\n",
        "    m=int(input(\"Enter the Moves/period based on the Shipments\"))\n",
        "    average=0\n",
        "    dp=pd.read_excel(c,sheet_name='Distance Opposite')\n",
        "    ds=pd.read_excel(c,sheet_name='SKU Assignment Opposite Shared')\n",
        "    df=pd.read_excel(c,sheet_name='Shared Flow Opposite Side')\n",
        "    for i in range (0,10):\n",
        "        for j in range (0,8):\n",
        "                  d[i][j]=df.iloc[i,j]*dp.iloc[i,j]\n",
        "                  dt=dt+d[i][j]\n",
        "    a=dt/k\n",
        "    g=a/b\n",
        "    print(\"Total Distance Travelled=\",dt)\n",
        "    print(\"Scaled Distance\",a)\n",
        "    print(\"Per Shipment Distance Travelled\",g)\n",
        "    print(\"Feets/move\",g/m)\n",
        "    distance=pd.DataFrame(d)\n",
        "    distance.to_excel(r'Export Distance Shared Opposite.xlsx',sheet_name=\"Distance\",index=False)\n",
        "    print(\"The Flow Matrix and Distance Travelled matrix has been generated\")"
      ],
      "execution_count": 8,
      "outputs": []
    },
    {
      "cell_type": "markdown",
      "metadata": {
        "id": "69vxcLA_y48Y"
      },
      "source": [
        "## **Function Implementation Code**"
      ]
    },
    {
      "cell_type": "code",
      "metadata": {
        "id": "8trTq46MqUUl",
        "colab": {
          "base_uri": "https://localhost:8080/"
        },
        "outputId": "3c744e84-3cf8-4c8b-96cf-22fed7bee00f"
      },
      "source": [
        "i=0\n",
        "print(\"Welcome to Warehousing 6202 Project 1\")\n",
        "print(\"The Files will be imported and exported as excel files in xlsx format\")\n",
        "print(\"Please choose the Operation to be performed\\n1. Class wise Bang for Buck SKU Assignment\\n2. Bang for Buck Optimisation\\n3. Layout design and flow matrix for Dedicated (Same R&S)\\n4. Layout design and flow matrix for Class (SameR&S)\\n5. Layout Design and Flow Matrix for Dedicated (Opposite R&S)\\n6. Layout Design and Flow Matrix for Class (Opposite R&S)\\n7. Layout Design and Flow Matrix for Shared (Same R&S)\\n8. Layout Design and Flow Matrix for Shared (Different R & S)\")\n",
        "g=input(\"Enter the file name of the excel in xlsx format\\n\")\n",
        "p=int(input(\"Enter the function Number\\n\"))\n",
        "while(i==0):\n",
        "    if (p==1):\n",
        "        classs(g)\n",
        "    if (p==2):\n",
        "        bang(g)\n",
        "    if (p==3):\n",
        "        layout(g)\n",
        "    if (p==4):\n",
        "        layoutclass(g)\n",
        "    if (p==5):\n",
        "        layoutdedicatedopposite(g)\n",
        "    if (p==6):\n",
        "        layoutclassopposite(g)\n",
        "    if (p==7):\n",
        "        sharedlayout(g)\n",
        "    if (p==8):\n",
        "        sharedlayoutopposite(g)\n",
        "    a=int(input(print(\"Do you wish to terminate or continue another function?\\n0 for Yes\\n1 for No\")))\n",
        "    if (a==0):\n",
        "        i=0\n",
        "        p=int(input(\"Enter the Function Number\"))\n",
        "    else:\n",
        "        i==1\n",
        "        break"
      ],
      "execution_count": 9,
      "outputs": [
        {
          "name": "stdout",
          "output_type": "stream",
          "text": [
            "Welcome to Warehousing 6202 Project 1\n",
            "The Files will be imported and exported as excel files in xlsx format\n",
            "Please choose the Operation to be performed\n",
            "1. Class wise Bang for Buck SKU Assignment\n",
            "2. Bang for Buck Optimisation\n",
            "3. Layout design and flow matrix for Dedicated (Same R&S)\n",
            "4. Layout design and flow matrix for Class (SameR&S)\n",
            "5. Layout Design and Flow Matrix for Dedicated (Opposite R&S)\n",
            "6. Layout Design and Flow Matrix for Class (Opposite R&S)\n",
            "7. Layout Design and Flow Matrix for Shared (Same R&S)\n",
            "8. Layout Design and Flow Matrix for Shared (Different R & S)\n",
            "Enter the file name of the excel in xlsx format\n",
            "Working File.xlsx\n",
            "Enter the function Number\n",
            "4\n",
            "Enter total moves/period621\n",
            "Total Distance Travelled= 20152\n",
            "Total Feets/move= 32.450885668276975\n",
            "The Flow Matrix and Distance Travelled matrix has been generated\n",
            "Do you wish to terminate or continue another function?\n",
            "0 for Yes\n",
            "1 for No\n",
            "1\n"
          ]
        }
      ]
    },
    {
      "cell_type": "code",
      "metadata": {
        "id": "Ul_wg-mi8262"
      },
      "source": [
        ""
      ],
      "execution_count": 9,
      "outputs": []
    }
  ]
}